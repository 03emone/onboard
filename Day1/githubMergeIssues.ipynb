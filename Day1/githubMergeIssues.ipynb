{
 "cells": [
  {
   "cell_type": "markdown",
   "id": "6afe9a48-a30f-4dbf-8e3a-f6cb064d63b3",
   "metadata": {
    "editable": true,
    "slideshow": {
     "slide_type": ""
    },
    "tags": []
   },
   "source": [
    "# Creating and Merging Conflicts in git/GitHub  \n",
    "\n",
    "----\n",
    "\n",
    "By Adam A Miller (Northwestern/CIERA/SkAI)  \n",
    "08 Sept 2025"
   ]
  },
  {
   "cell_type": "markdown",
   "id": "17335276-9d66-4597-9336-7320da694bce",
   "metadata": {
    "editable": true,
    "slideshow": {
     "slide_type": ""
    },
    "tags": []
   },
   "source": [
    "In this exercise you will learn to: \n",
    "\n",
    "1. Fork and download a GitHub repository\n",
    "2. Push local file changes to GitHub\n",
    "3. Make a pull request\n",
    "4. Merge conflicts\n",
    "5. Sync synchronous work with a partner"
   ]
  },
  {
   "cell_type": "markdown",
   "id": "df5b3127-cc8a-41d3-9014-cd3c707762b7",
   "metadata": {
    "editable": true,
    "slideshow": {
     "slide_type": ""
    },
    "tags": []
   },
   "source": [
    "## Problem 0) Create a Github account\n",
    "\n",
    "If you do not already have one, create a github account at [github.com](https://github.com/). I recommend using either your Northwestern email, or another account that you are certain you will have access to for a very long time. Choose a username that you want to be associated with your professional persona.  "
   ]
  },
  {
   "cell_type": "markdown",
   "id": "bf2547a9-d877-4a02-ba4f-5e4a165ef218",
   "metadata": {
    "editable": true,
    "slideshow": {
     "slide_type": ""
    },
    "tags": []
   },
   "source": [
    "## Problem 1) Fork the Onboard Repo\n",
    "\n",
    "Go to [my repo](https://github.com/adamamiller/onboard) and click the button in the upper right hand corner that says `Fork`. "
   ]
  },
  {
   "cell_type": "markdown",
   "id": "a4a0894c-e636-48ff-8890-1344b256127d",
   "metadata": {
    "editable": true,
    "slideshow": {
     "slide_type": ""
    },
    "tags": []
   },
   "source": [
    "Then create a local copy of the repository on your laptop. To do so click on the green button that says \"Code\" and copy the https address that is there. \n",
    "\n",
    "Within a terminal on your laptop, change to the directory where you would like for the repo to live then type: \n",
    "\n",
    "`git clone [copy the https url that you copied here]`"
   ]
  },
  {
   "cell_type": "markdown",
   "id": "c143d80c-a06e-444e-b59a-af6061e736bb",
   "metadata": {
    "editable": true,
    "slideshow": {
     "slide_type": ""
    },
    "tags": []
   },
   "source": [
    "Now you have a local copy of the repo!"
   ]
  },
  {
   "cell_type": "markdown",
   "id": "aa0e4876-03d6-4fff-bcd6-3be32c7e1f27",
   "metadata": {
    "editable": true,
    "slideshow": {
     "slide_type": ""
    },
    "tags": []
   },
   "source": [
    "## Problem 2) Fix the GitHub intro"
   ]
  },
  {
   "cell_type": "markdown",
   "id": "628430a8-65b3-4bf0-9c98-434b8a5d1599",
   "metadata": {
    "editable": true,
    "slideshow": {
     "slide_type": ""
    },
    "tags": []
   },
   "source": [
    "Navigate to the `Day1/` directory\n",
    "\n",
    "`cd onboard/Day1/`\n",
    "\n",
    "and list the files that are present."
   ]
  },
  {
   "cell_type": "markdown",
   "id": "2a1dca24-50f2-4572-995b-22a141d10788",
   "metadata": {
    "editable": true,
    "slideshow": {
     "slide_type": ""
    },
    "tags": []
   },
   "source": [
    "The file `gitIntro.md` is helpful, but it has a few mistakes. Open the file in your favorite text editor and correct the mistakes that you find. \n",
    "\n",
    "Then stage the file, commit it, and push it to the cloud."
   ]
  },
  {
   "cell_type": "markdown",
   "id": "d78fe98a-0cd5-4a98-ad42-ccb77a13cb7b",
   "metadata": {
    "editable": true,
    "slideshow": {
     "slide_type": ""
    },
    "tags": []
   },
   "source": [
    "`git add gitIntro.md`\n",
    "\n",
    "`git commit -m \"MAINT: correct errors`\n",
    "\n",
    "`git push origin main`"
   ]
  },
  {
   "cell_type": "markdown",
   "id": "3967ab60-f216-45fb-a520-bda6064b13f3",
   "metadata": {
    "editable": true,
    "slideshow": {
     "slide_type": ""
    },
    "tags": []
   },
   "source": [
    "## Problem 3) Establish remotes "
   ]
  },
  {
   "cell_type": "markdown",
   "id": "2f169a33-e6cc-4f65-b435-dec37976add5",
   "metadata": {
    "editable": true,
    "slideshow": {
     "slide_type": ""
    },
    "tags": []
   },
   "source": [
    "Later this week you will need to download additional files from the repo. Set up Adam's version as the upstream branch\n",
    "\n",
    "`git remote add upstream https://github.com/adamamiller/onboard.git`"
   ]
  },
  {
   "cell_type": "markdown",
   "id": "8ab5b4b8-d773-4143-b4aa-2176ec0cc78f",
   "metadata": {
    "editable": true,
    "slideshow": {
     "slide_type": ""
    },
    "tags": []
   },
   "source": [
    "Establish a remote connection to your partner's repo:\n",
    "\n",
    "`git remote add [partner's name] https://github.com/[partner's account]/onboard.git`"
   ]
  },
  {
   "cell_type": "markdown",
   "id": "a1732866-04b4-472c-b7c5-28a204c0550b",
   "metadata": {
    "editable": true,
    "slideshow": {
     "slide_type": ""
    },
    "tags": []
   },
   "source": [
    "There should now be three remote repositories connected to your local copy. Confirm this is the case with: \n",
    "\n",
    "`git remote -v`"
   ]
  },
  {
   "cell_type": "markdown",
   "id": "a69b7514-a1d8-453f-82d7-6272cbcecc2b",
   "metadata": {
    "editable": true,
    "slideshow": {
     "slide_type": ""
    },
    "tags": []
   },
   "source": [
    "## Problem 4) Correct conflicts to execute a pull request\n",
    "\n",
    "Navigate a browswer to your GitHub repository and make a pull request *to your partner's repository*"
   ]
  },
  {
   "cell_type": "markdown",
   "id": "3bfe6dec-ca2a-4f7d-a6d2-12aa65f9000d",
   "metadata": {
    "editable": true,
    "slideshow": {
     "slide_type": ""
    },
    "tags": []
   },
   "source": [
    "This pull request will (almost certainly) fail, because there are \"merge conflicts\". "
   ]
  },
  {
   "cell_type": "markdown",
   "id": "e0e4adc5-a830-4405-b59b-fc9904993c3a",
   "metadata": {
    "editable": true,
    "slideshow": {
     "slide_type": ""
    },
    "tags": []
   },
   "source": [
    "Correct the merge conflicts, then `git add`, `git commit`, and `git push` again so that your partner can accept your pull request. \n",
    "\n",
    "*Note* – you may have to go through a few rounds of iteration to get this correct."
   ]
  },
  {
   "cell_type": "markdown",
   "id": "f9f2ca03-80da-4d35-b98d-14ba807e3931",
   "metadata": {
    "editable": true,
    "slideshow": {
     "slide_type": ""
    },
    "tags": []
   },
   "source": [
    "## Challenge Problem"
   ]
  },
  {
   "cell_type": "markdown",
   "id": "40854faf-20bd-499a-9e42-140d5994058a",
   "metadata": {
    "editable": true,
    "slideshow": {
     "slide_type": ""
    },
    "tags": []
   },
   "source": [
    "After the pull request has been merged, `git pull` from your remote repository. \n",
    "\n",
    "Create a `git branch` and make edits to the same file by adding something that you learned about `git` from today. Push the new branch to the cloud and make a pull request on your partner's repository. \n",
    "\n",
    "Did you get merge conflicts in this case? Why or why not? "
   ]
  },
  {
   "cell_type": "markdown",
   "id": "c699bebb-ec8e-46ff-b64d-30e90ed918e7",
   "metadata": {
    "editable": true,
    "slideshow": {
     "slide_type": ""
    },
    "tags": []
   },
   "source": [
    "*write your answer here*"
   ]
  }
 ],
 "metadata": {
  "kernelspec": {
   "display_name": "Python 3 (ipykernel)",
   "language": "python",
   "name": "python3"
  },
  "language_info": {
   "codemirror_mode": {
    "name": "ipython",
    "version": 3
   },
   "file_extension": ".py",
   "mimetype": "text/x-python",
   "name": "python",
   "nbconvert_exporter": "python",
   "pygments_lexer": "ipython3",
   "version": "3.11.4"
  }
 },
 "nbformat": 4,
 "nbformat_minor": 5
}
