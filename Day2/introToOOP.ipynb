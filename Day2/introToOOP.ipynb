{
 "cells": [
  {
   "cell_type": "markdown",
   "id": "895ac9a6-073b-44a6-86ef-09ef82438491",
   "metadata": {
    "editable": true,
    "slideshow": {
     "slide_type": "slide"
    },
    "tags": []
   },
   "source": [
    "# An Introduction to Object Oriented Programming  \n",
    "\n",
    "----\n",
    "\n",
    "By Adam A Miller (Northwestern/CIERA/SkAI)  \n",
    "09 Sept 2025"
   ]
  },
  {
   "cell_type": "markdown",
   "id": "21babb27-2ce9-40bb-a53d-011d1ef5a18d",
   "metadata": {
    "editable": true,
    "slideshow": {
     "slide_type": "skip"
    },
    "tags": []
   },
   "source": [
    "(these materials are inspired by Jeff Oishi - who gave me my first, and only, book on python - and Cameron Hummels, both past lectures at the DSFP [Session 8](https://github.com/LSSTC-DSFP/LSSTC-DSFP-Sessions-tutorial/tree/main/Sessions/Session08) and [Session 3](), respectively)"
   ]
  },
  {
   "cell_type": "markdown",
   "id": "b4f0bb99-0558-4650-8728-8ab8a270eaf0",
   "metadata": {
    "editable": true,
    "slideshow": {
     "slide_type": "slide"
    },
    "tags": []
   },
   "source": [
    "What are the properties of good software? "
   ]
  },
  {
   "cell_type": "markdown",
   "id": "1f81c197-a2ec-40d9-a3d6-92ed94dd488b",
   "metadata": {
    "editable": true,
    "slideshow": {
     "slide_type": "fragment"
    },
    "tags": []
   },
   "source": [
    " - correct"
   ]
  },
  {
   "cell_type": "markdown",
   "id": "36eb7b19-81e6-4bf8-94a1-a8c7659e5e19",
   "metadata": {
    "editable": true,
    "slideshow": {
     "slide_type": "fragment"
    },
    "tags": []
   },
   "source": [
    " - efficient"
   ]
  },
  {
   "cell_type": "markdown",
   "id": "483fe9e7-49a8-43f8-ba6d-d70077185618",
   "metadata": {
    "editable": true,
    "slideshow": {
     "slide_type": "fragment"
    },
    "tags": []
   },
   "source": [
    " - simple"
   ]
  },
  {
   "cell_type": "markdown",
   "id": "88605210-85ac-42bb-b5e7-d26320afdc70",
   "metadata": {
    "editable": true,
    "slideshow": {
     "slide_type": "fragment"
    },
    "tags": []
   },
   "source": [
    " - easy to read"
   ]
  },
  {
   "cell_type": "markdown",
   "id": "eedddbdb-cf00-44f8-9aaa-3c2a38e4e18a",
   "metadata": {
    "editable": true,
    "slideshow": {
     "slide_type": "fragment"
    },
    "tags": []
   },
   "source": [
    " - concise"
   ]
  },
  {
   "cell_type": "markdown",
   "id": "79d23d92-db8b-466d-a52f-cc4344cc3766",
   "metadata": {
    "editable": true,
    "slideshow": {
     "slide_type": "fragment"
    },
    "tags": []
   },
   "source": [
    " - accessible"
   ]
  },
  {
   "cell_type": "markdown",
   "id": "d708d548-261f-4cf1-a559-7ee1ee78b6ef",
   "metadata": {
    "editable": true,
    "slideshow": {
     "slide_type": "subslide"
    },
    "tags": []
   },
   "source": [
    "(we covered accessible when discussing repositories, we will cover \"correct\" at the end of the week)"
   ]
  },
  {
   "cell_type": "markdown",
   "id": "cc5426e8-adb8-479b-9a65-94a717ab396f",
   "metadata": {
    "editable": true,
    "slideshow": {
     "slide_type": "slide"
    },
    "tags": []
   },
   "source": [
    "Object oriented programming (OOP) enables efficient, simple, concise, and easy to read software. "
   ]
  },
  {
   "cell_type": "markdown",
   "id": "2ce4d3b4-f227-41c4-b159-69e63be84768",
   "metadata": {
    "editable": true,
    "slideshow": {
     "slide_type": "slide"
    },
    "tags": []
   },
   "source": [
    "There are three paradigms for programming:\n",
    "\n",
    "| procedural |  object-oriented | functional |\n",
    "| :--------- | :--------------- | :--------- |\n",
    "| top-down | bottom-up | recursive |\n",
    "| group data as procedures | group data as objects | group data as functions |\n",
    "| e.g., C, Fortran, Basic | e.g., C++, Java, Python | e.g., scheme |"
   ]
  },
  {
   "cell_type": "markdown",
   "id": "62759184-44d7-4907-854a-f6b12db6e488",
   "metadata": {
    "editable": true,
    "slideshow": {
     "slide_type": ""
    },
    "tags": []
   },
   "source": [
    "Python is all of these (though most of it is object oriented under the hood)"
   ]
  },
  {
   "cell_type": "markdown",
   "id": "6e0bbcb0-8db3-46f2-b687-c1f3702bbdb9",
   "metadata": {
    "editable": true,
    "slideshow": {
     "slide_type": ""
    },
    "tags": []
   },
   "source": [
    "Suppose I asked you to create a list of the first $n$ squares. You can do this in any of the three paradigms. "
   ]
  },
  {
   "cell_type": "markdown",
   "id": "10fac981-fe20-4dda-80e2-f76662697f68",
   "metadata": {
    "editable": true,
    "slideshow": {
     "slide_type": "slide"
    },
    "tags": []
   },
   "source": [
    "**Procedural**"
   ]
  },
  {
   "cell_type": "code",
   "execution_count": 2,
   "id": "c7c4760a-bcad-4d2f-a2dd-f19fc861d42a",
   "metadata": {
    "editable": true,
    "slideshow": {
     "slide_type": "fragment"
    },
    "tags": []
   },
   "outputs": [
    {
     "name": "stdout",
     "output_type": "stream",
     "text": [
      "[0, 1, 4, 9, 16, 25, 36, 49, 64, 81]\n"
     ]
    }
   ],
   "source": [
    "def square(n):\n",
    "    squares = []\n",
    "    for i in range(n):\n",
    "        squares.append(i**2)\n",
    "    return squares\n",
    "print(square(10))"
   ]
  },
  {
   "cell_type": "markdown",
   "id": "978b4405-286c-4a82-b421-8985e6148df0",
   "metadata": {
    "editable": true,
    "slideshow": {
     "slide_type": "slide"
    },
    "tags": []
   },
   "source": [
    "**Functional**"
   ]
  },
  {
   "cell_type": "code",
   "execution_count": 3,
   "id": "b11ad648-b41f-40a4-803c-3057b252c8f6",
   "metadata": {
    "editable": true,
    "slideshow": {
     "slide_type": ""
    },
    "tags": []
   },
   "outputs": [
    {
     "name": "stdout",
     "output_type": "stream",
     "text": [
      "[0, 1, 4, 9, 16, 25, 36, 49, 64, 81]\n"
     ]
    }
   ],
   "source": [
    "sq = lambda n: [i**2 for i in range(n)]\n",
    "\n",
    "print(sq(10)) #actually this isn't really functional! printing is a \"side effect\""
   ]
  },
  {
   "cell_type": "markdown",
   "id": "d014efd0-7c24-4993-8ab5-2ef057882ec0",
   "metadata": {
    "editable": true,
    "slideshow": {
     "slide_type": "slide"
    },
    "tags": []
   },
   "source": [
    "**Object oriented**\n",
    "\n",
    "We need to define a few terms: objects have attributes (i.e., data) and methods (i.e., functions to act on the data). "
   ]
  },
  {
   "cell_type": "code",
   "execution_count": 4,
   "id": "1fd297cb-9fba-496f-b2ed-335c8e71037a",
   "metadata": {
    "editable": true,
    "slideshow": {
     "slide_type": "fragment"
    },
    "tags": []
   },
   "outputs": [],
   "source": [
    "class Observation():\n",
    "    def __init__(self, data): # method\n",
    "        self.data = data #attribute\n",
    "    def square(self): # method\n",
    "        squares = [d**2 for d in self.data]\n",
    "        return squares\n",
    "\n"
   ]
  },
  {
   "cell_type": "code",
   "execution_count": 6,
   "id": "2e242850-9525-4baf-8c81-17df4897e07f",
   "metadata": {
    "editable": true,
    "slideshow": {
     "slide_type": "slide"
    },
    "tags": []
   },
   "outputs": [
    {
     "name": "stdout",
     "output_type": "stream",
     "text": [
      "[0, 1, 4, 9, 16, 25, 36, 49, 64, 81]\n"
     ]
    }
   ],
   "source": [
    "n = 10\n",
    "obs1 = Observation(range(n))\n",
    "print(obs1.square())"
   ]
  },
  {
   "cell_type": "markdown",
   "id": "c73ed97d-d5d0-4d1b-9c70-1d86a3066df7",
   "metadata": {
    "editable": true,
    "slideshow": {
     "slide_type": "slide"
    },
    "tags": []
   },
   "source": [
    "I would make a large wager that you first learned (and primarily write) procedural python software: \n",
    "\n",
    "```\n",
    "def optimus_prime():\n",
    "    do_stuff\n",
    "    do_more_stuff\n",
    "    return stuff\n",
    "```"
   ]
  },
  {
   "cell_type": "markdown",
   "id": "9060ba12-b379-4b51-b953-f04f640c03f0",
   "metadata": {
    "editable": true,
    "slideshow": {
     "slide_type": "slide"
    },
    "tags": []
   },
   "source": [
    "I also want to emphasize that there is nothing wrong with this, but there are efficiencies that can be gained by adopting OOP (when it is appropriate). \n",
    "\n",
    "Here I will highlight a few OOP concepts:"
   ]
  },
  {
   "cell_type": "markdown",
   "id": "e3bdffad-3645-48df-95ce-bad7bd056d14",
   "metadata": {
    "editable": true,
    "slideshow": {
     "slide_type": "slide"
    },
    "tags": []
   },
   "source": [
    "1. encapsulation\n",
    "   - attributes and methods can be \"hidden\" to constrain access. This concept helps protect the internal state of an object by restricting direct access to its components, promoting data integrity and security."
   ]
  },
  {
   "cell_type": "markdown",
   "id": "31200625-d7c9-478f-87a5-836249f7afab",
   "metadata": {
    "editable": true,
    "slideshow": {
     "slide_type": "slide"
    },
    "tags": []
   },
   "source": [
    "2. data abstraction\n",
    "   - \"black box\" where complex details are hidden and only high level is exposed to the user (e.g., API)"
   ]
  },
  {
   "cell_type": "markdown",
   "id": "14af1cd8-4ca1-40a5-a317-d38548aca7f8",
   "metadata": {
    "editable": true,
    "slideshow": {
     "slide_type": "slide"
    },
    "tags": []
   },
   "source": [
    "3. inheritance\n",
    "   - subclasses can easily be created to reduce redundancy and make software more modular"
   ]
  },
  {
   "cell_type": "markdown",
   "id": "4a085620-292e-477d-9ca6-f25014787709",
   "metadata": {
    "editable": true,
    "slideshow": {
     "slide_type": "slide"
    },
    "tags": []
   },
   "source": [
    "4. polymorphism\n",
    "   - one function name can do many things"
   ]
  },
  {
   "cell_type": "markdown",
   "id": "58105103-91bd-4a85-b24b-65cd7b618eb9",
   "metadata": {
    "editable": true,
    "slideshow": {
     "slide_type": "slide"
    },
    "tags": []
   },
   "source": [
    "5. variable scope\n",
    "   - enclosed namespaces allow multiple variables of the same name to be different in different contexts (e.g., local variables within methods and global variables within classes)."
   ]
  },
  {
   "cell_type": "markdown",
   "id": "4472b310-db27-4700-9260-7b5e518a3d85",
   "metadata": {
    "editable": true,
    "slideshow": {
     "slide_type": "slide"
    },
    "tags": []
   },
   "source": [
    "### Problem 1) Examples\n",
    "\n",
    "Can you think of any problems in your sub-field where OOP might be useful? "
   ]
  },
  {
   "cell_type": "markdown",
   "id": "f0562043-4406-49e3-b222-18c3ef7c2c0a",
   "metadata": {
    "editable": true,
    "slideshow": {
     "slide_type": "slide"
    },
    "tags": []
   },
   "source": [
    "*discuss*"
   ]
  },
  {
   "cell_type": "markdown",
   "id": "2c0ceaf1-72d4-44e5-8feb-54fc4a0a5378",
   "metadata": {
    "editable": true,
    "slideshow": {
     "slide_type": "slide"
    },
    "tags": []
   },
   "source": [
    "### Problem 2) Inheritance example"
   ]
  },
  {
   "cell_type": "markdown",
   "id": "4d27a3fd-a0df-4d68-a885-8956560e1363",
   "metadata": {
    "editable": true,
    "slideshow": {
     "slide_type": "slide"
    },
    "tags": []
   },
   "source": [
    "We have already defined the `Observation` class. Imagine that we have a subset of observations that may be time series information. A new class `TimeSeries` can be created and it can inherit all the properties of the `Observation` class. "
   ]
  },
  {
   "cell_type": "code",
   "execution_count": 7,
   "id": "7d16c28c-b042-457d-b13b-3d7eb9323e1b",
   "metadata": {
    "editable": true,
    "slideshow": {
     "slide_type": "slide"
    },
    "tags": []
   },
   "outputs": [],
   "source": [
    "class TimeSeries(Observation): # inherits all the methods and attributes from Observation\n",
    "    def __init__(self, time, data):\n",
    "        self.time = time\n",
    "        Observation.__init__(self, data) # this calls the constructor of the base class\n",
    "        if len(self.time) != len(self.data):\n",
    "            raise ValueError(\"Time and data must have same length!\")\n",
    "    def duration(self):\n",
    "        return self.time[-1] - self.time[0]"
   ]
  },
  {
   "cell_type": "code",
   "execution_count": 11,
   "id": "5452fcf8-fa8b-43ac-b35d-84f2e7c7de5b",
   "metadata": {
    "editable": true,
    "slideshow": {
     "slide_type": "slide"
    },
    "tags": []
   },
   "outputs": [
    {
     "name": "stdout",
     "output_type": "stream",
     "text": [
      "<class '__main__.TimeSeries'>\n",
      "4\n",
      "[100, 81, 64, 49, 36]\n"
     ]
    }
   ],
   "source": [
    "ts = TimeSeries([1,2,3,4,5],[10,9,8,7,6])\n",
    "print(type(ts))\n",
    "print(ts.duration())\n",
    "print(ts.square()) # this is the inheritance!"
   ]
  },
  {
   "cell_type": "markdown",
   "id": "084e16af-d3a9-4cb3-9886-008cab862023",
   "metadata": {
    "editable": true,
    "slideshow": {
     "slide_type": "slide"
    },
    "tags": []
   },
   "source": [
    "Note that in python *everything* is an object"
   ]
  },
  {
   "cell_type": "markdown",
   "id": "6d9c5702-c6f9-4215-b666-48949eb6e9c4",
   "metadata": {
    "editable": true,
    "slideshow": {
     "slide_type": "subslide"
    },
    "tags": []
   },
   "source": [
    "(it's incredibly likely you've been doing OOP for years simply by making any plots at all in `matplotlib`)"
   ]
  },
  {
   "cell_type": "code",
   "execution_count": 12,
   "id": "70121d24-2ba9-45b5-b0b9-bcac745f5f20",
   "metadata": {
    "editable": true,
    "slideshow": {
     "slide_type": "fragment"
    },
    "tags": []
   },
   "outputs": [
    {
     "name": "stdout",
     "output_type": "stream",
     "text": [
      "<built-in function print>\n"
     ]
    }
   ],
   "source": [
    "print(print) #functions are objects!"
   ]
  },
  {
   "cell_type": "code",
   "execution_count": 14,
   "id": "c97618f9-e2e5-4a87-ad18-7cf3a6dd5f05",
   "metadata": {
    "editable": true,
    "slideshow": {
     "slide_type": "fragment"
    },
    "tags": []
   },
   "outputs": [],
   "source": [
    "a_bad_idea = print # this is the object representing a function!"
   ]
  },
  {
   "cell_type": "code",
   "execution_count": 15,
   "id": "be852539-6eff-4f80-8c42-a72b8c8320fd",
   "metadata": {
    "editable": true,
    "slideshow": {
     "slide_type": "fragment"
    },
    "tags": []
   },
   "outputs": [
    {
     "name": "stdout",
     "output_type": "stream",
     "text": [
      "this is a bad idea\n"
     ]
    }
   ],
   "source": [
    "a_bad_idea(\"this is a bad idea\")"
   ]
  },
  {
   "cell_type": "markdown",
   "id": "afc4daf2-0b5d-459f-a350-b433a129e470",
   "metadata": {
    "editable": true,
    "slideshow": {
     "slide_type": "slide"
    },
    "tags": []
   },
   "source": [
    "Note that an instance is not the same as an object, it is just the realization of a class. "
   ]
  },
  {
   "cell_type": "code",
   "execution_count": 16,
   "id": "782b89ef-a26e-407a-945f-d1e4bbbfa0a6",
   "metadata": {
    "editable": true,
    "slideshow": {
     "slide_type": "fragment"
    },
    "tags": []
   },
   "outputs": [
    {
     "name": "stdout",
     "output_type": "stream",
     "text": [
      "20\n",
      "[1, 4, 9]\n"
     ]
    }
   ],
   "source": [
    "ts2 = TimeSeries([10,20,30],[1,2,3])\n",
    "print(ts2.duration())\n",
    "print(ts2.square()) # this is the inheritance!"
   ]
  },
  {
   "cell_type": "markdown",
   "id": "80c5a604-7ebc-4df0-984a-e27ce947a21b",
   "metadata": {
    "editable": true,
    "slideshow": {
     "slide_type": "slide"
    },
    "tags": []
   },
   "source": [
    "As you embark on a new future as an OOP practioner, here are a few tips that may be helpful: "
   ]
  },
  {
   "cell_type": "markdown",
   "id": "5ca5c205-4f1a-42c2-9be9-97ff0e1d082a",
   "metadata": {
    "editable": true,
    "slideshow": {
     "slide_type": "slide"
    },
    "tags": []
   },
   "source": [
    "1. for an object, a function is called a \"method\" and data are \"attributes\""
   ]
  },
  {
   "cell_type": "markdown",
   "id": "fa7dabdf-eeed-4368-a080-1bfc468d9ea7",
   "metadata": {
    "editable": true,
    "slideshow": {
     "slide_type": "slide"
    },
    "tags": []
   },
   "source": [
    "2. `.self` acts on the object, while `super()` allows subclasses to extend or modify the behavior of inherited methods without rewriting them.\n",
    "\n",
    "```\n",
    "class TimeSeries(Observation): # inherits all the methods and attributes from Observation\n",
    "    def __init__(self, time, data):\n",
    "        self.time = time\n",
    "        super().__init__(self, data) # this calls the constructor of the base class\n",
    "        if len(self.time) != len(self.data):\n",
    "            raise ValueError(\"Time and data must have same length!\")\n",
    "    def duration(self):\n",
    "        return self.time[-1] - self.time[0]\n",
    "```"
   ]
  },
  {
   "cell_type": "markdown",
   "id": "ae7d8017-6b3b-489b-a24b-29adbf6bc5cf",
   "metadata": {
    "editable": true,
    "slideshow": {
     "slide_type": "slide"
    },
    "tags": []
   },
   "source": [
    "3. remember that attributes can be private (normally done by prepending an underscore to the attribute name, e.g., `_data`)"
   ]
  },
  {
   "cell_type": "markdown",
   "id": "ad7d7371-d5e8-40a2-ac70-f1f8310d902a",
   "metadata": {
    "editable": true,
    "slideshow": {
     "slide_type": "slide"
    },
    "tags": []
   },
   "source": [
    "4. use camelCase for class names, and snake_case for methods and attributes"
   ]
  },
  {
   "cell_type": "markdown",
   "id": "99b2a8c9-89ef-41a4-90f7-45f241a91706",
   "metadata": {
    "editable": true,
    "slideshow": {
     "slide_type": "slide"
    },
    "tags": []
   },
   "source": [
    "5. always always always use descriptive names!\n",
    "\n",
    "Bet money you have no idea what `.a()` does, but you have a great guess for that `.average()` does"
   ]
  },
  {
   "cell_type": "markdown",
   "id": "be46f4e1-33f9-4f58-90b3-df2991ba59a1",
   "metadata": {
    "editable": true,
    "slideshow": {
     "slide_type": "slide"
    },
    "tags": []
   },
   "source": [
    "6. in addition to your `__init__()` add a `__repr__()` method so you can print instances."
   ]
  },
  {
   "cell_type": "code",
   "execution_count": 17,
   "id": "1908ae97-7579-4668-858d-4f1a70ffe6f2",
   "metadata": {
    "editable": true,
    "slideshow": {
     "slide_type": "slide"
    },
    "tags": []
   },
   "outputs": [],
   "source": [
    "class Observation():\n",
    "    def __init__(self, data):\n",
    "        self.data = data\n",
    "\n",
    "    def square(self):\n",
    "        squares = [d**2 for d in self.data]\n",
    "        return squares\n",
    "\n",
    "    def __repr__(self):\n",
    "        return f\"Observation(data={self.data})\""
   ]
  },
  {
   "cell_type": "code",
   "execution_count": 18,
   "id": "2d9bc438-9347-4024-a7e4-ba886aaa5f69",
   "metadata": {
    "editable": true,
    "slideshow": {
     "slide_type": "slide"
    },
    "tags": []
   },
   "outputs": [
    {
     "name": "stdout",
     "output_type": "stream",
     "text": [
      "Observation(data=[1, 2, 3, 4, 5])\n"
     ]
    }
   ],
   "source": [
    "obs = Observation([1,2,3,4,5])\n",
    "print(obs)"
   ]
  },
  {
   "cell_type": "markdown",
   "id": "4ab71e24-ea36-42e6-9a05-0943e16aac56",
   "metadata": {
    "editable": true,
    "slideshow": {
     "slide_type": "slide"
    },
    "tags": []
   },
   "source": [
    "### Problem 3) Inheritance Example\n",
    "\n",
    "Can you think of any problems in your sub-field where class inheritance might be useful? "
   ]
  },
  {
   "cell_type": "markdown",
   "id": "80ba6cf8-72ba-4c3a-8f83-f57ae6fafda0",
   "metadata": {
    "editable": true,
    "slideshow": {
     "slide_type": "slide"
    },
    "tags": []
   },
   "source": [
    "*discuss with someone sitting next to you*"
   ]
  }
 ],
 "metadata": {
  "kernelspec": {
   "display_name": "Python 3 (ipykernel)",
   "language": "python",
   "name": "python3"
  },
  "language_info": {
   "codemirror_mode": {
    "name": "ipython",
    "version": 3
   },
   "file_extension": ".py",
   "mimetype": "text/x-python",
   "name": "python",
   "nbconvert_exporter": "python",
   "pygments_lexer": "ipython3",
   "version": "3.11.4"
  }
 },
 "nbformat": 4,
 "nbformat_minor": 5
}
